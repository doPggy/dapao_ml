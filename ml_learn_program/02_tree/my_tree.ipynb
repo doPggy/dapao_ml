{
 "cells": [
  {
   "cell_type": "code",
   "execution_count": 1,
   "metadata": {},
   "outputs": [],
   "source": [
    "import numpy as np\n",
    "from math import log\n",
    "from functools import reduce\n",
    "import operator\n",
    "import matplotlib.pyplot as plt"
   ]
  },
  {
   "cell_type": "code",
   "execution_count": 2,
   "metadata": {},
   "outputs": [],
   "source": [
    "with open('./lenses.txt', 'r') as f:\n",
    "    lines = f.readlines()\n",
    "    x_train = [ line.strip().split('\\t') for line in lines ]\n",
    "\n",
    "# 计算一个样本集合的信息熵\n",
    "def calc_ent(data_set):\n",
    "    class_     = list(set([ sample[-1] for sample in data_set ]))\n",
    "    sample_num = len(data_set)\n",
    "    class_count = {}\n",
    "    # 计算 k 个类\n",
    "    for sample in data_set:\n",
    "        class_name              = sample[-1]\n",
    "        class_count[class_name] = class_count.get(class_name, 0) + 1\n",
    "    ent = 0.0\n",
    "    for class_name, count in class_count.items():\n",
    "        p    = count * 1.0 / sample_num\n",
    "        ent -= p * log(p, 2)\n",
    "    return ent\n",
    "\n",
    "# 根据属性和属性对应的一个属性值划分\n",
    "def split_set_by_feat(data_set, feat, feat_val):\n",
    "    after_split = []\n",
    "    for sample in data_set:\n",
    "        if sample[feat] == feat_val:\n",
    "            reduced_set = sample[:feat] # extend 改变源数据，不返回拷贝\n",
    "            reduced_set.extend(sample[feat + 1:])\n",
    "            after_split.append(reduced_set)\n",
    "    return after_split\n",
    "\n",
    "# 根据现有样本集找到最好的划分\n",
    "def find_best_feat(data_set):\n",
    "    feat_num = len(data_set[0]) - 1 # 每个样本的属性个数\n",
    "    sample_num = len(data_set)\n",
    "    base_ent = calc_ent(data_set)\n",
    "    ent      = 0.0\n",
    "    max_gain = 0.0 # 最大信息增益\n",
    "    best_feat = -1 # 最好的属性划分\n",
    "    for feat in range(feat_num):\n",
    "        feat_values = set([ sample[feat] for sample in data_set ])\n",
    "        ent = 0.0\n",
    "        for feat_val in feat_values:\n",
    "            sub_set = split_set_by_feat(data_set, feat, feat_val)\n",
    "            ent    += len(sub_set) * 1.0 / sample_num * calc_ent(sub_set)\n",
    "        # 最大增益\n",
    "        if base_ent - ent > max_gain:\n",
    "            max_gain  = base_ent - ent\n",
    "            best_feat = feat\n",
    "    return best_feat"
   ]
  },
  {
   "cell_type": "code",
   "execution_count": 3,
   "metadata": {},
   "outputs": [
    {
     "data": {
      "text/plain": [
       "3"
      ]
     },
     "execution_count": 3,
     "metadata": {},
     "output_type": "execute_result"
    }
   ],
   "source": [
    "test = [[1, 1, 'yes'],\n",
    "        [1, 1, 'yes'],\n",
    "        [1, 0, 'no'],\n",
    "        [0, 1, 'no'],\n",
    "        [0, 1, 'no'],\n",
    "       ]\n",
    "# labels = ['no surface', 'flippers']\n",
    "# calc_ent(x_train)\n",
    "# split_set_by_feat(test, 1, 1)\n",
    "find_best_feat(x_train)"
   ]
  },
  {
   "cell_type": "markdown",
   "metadata": {},
   "source": [
    "已经有划分属性和计算信息熵的函数，可以考虑构建决策树"
   ]
  },
  {
   "cell_type": "code",
   "execution_count": 9,
   "metadata": {},
   "outputs": [
    {
     "data": {
      "text/plain": [
       "{'tear_rate': {'reduced': 'no lenses',\n",
       "  'normal': {'astigmatic': {'no': {'age': {'pre': 'soft',\n",
       "      'presbyopic': {'prescript': {'myope': 'no lenses', 'hyper': 'soft'}},\n",
       "      'young': 'soft'}},\n",
       "    'yes': 'hard'}}}}"
      ]
     },
     "execution_count": 9,
     "metadata": {},
     "output_type": "execute_result"
    }
   ],
   "source": [
    "def clac_majority_class(data_set):\n",
    "    count = {}\n",
    "    for sample in data_set:\n",
    "        class_name        = sample[-1]\n",
    "        count[class_name] = count.get(class_name, 0) + 1\n",
    "    sorted_count = sorted(count.items(), key = operator.itemgetter(1), reverse = True)\n",
    "    return sorted_count[0][0]\n",
    "\n",
    "def create_tree(data_set, feat_names):\n",
    "    # 递归造树，但是终止条件核心就是，无法再划分\n",
    "    \n",
    "    # 当前样本集和为同一类别 返回这个类别 (no lenses/soft/hard)\n",
    "    reduced_class = [ sample[-1] for sample in data_set if data_set[0][-1] == sample[-1] ]\n",
    "    if len(reduced_class) == len(data_set):\n",
    "        return reduced_class[0]\n",
    "    # 属性集合已经空了 判定为数量最多的类型\n",
    "#     if len(data_set[0]) == 1:\n",
    "    if len(feat_names) == 0:\n",
    "        return clac_majority_class(data_set)\n",
    "    # 不然的话，欢迎来到划分属性的世界\n",
    "    best_feat      = find_best_feat(data_set)\n",
    "    best_feat_vals = set([ sample[best_feat] for sample in data_set ])\n",
    "    best_feat_name = feat_names[best_feat]\n",
    "#     print(best_feat)\n",
    "#     print(best_feat_vals)\n",
    "#     print(best_feat_name)\n",
    "    cur_node       = { best_feat_name : {} } # 当前的属性划分，和划分属性值，对应可能是结果，也可能又是一个节点\n",
    "    del(feat_names[best_feat])\n",
    "    for feat_val in best_feat_vals:\n",
    "        cur_node[best_feat_name][feat_val] = create_tree(split_set_by_feat(data_set, best_feat, feat_val), feat_names)\n",
    "    return cur_node\n",
    "\n",
    "# clac_majority_class(x_train)\n",
    "tree = create_tree(x_train, ['age', 'prescript', 'astigmatic', 'tear_rate'])\n",
    "tree"
   ]
  },
  {
   "cell_type": "code",
   "execution_count": null,
   "metadata": {},
   "outputs": [],
   "source": []
  },
  {
   "cell_type": "code",
   "execution_count": null,
   "metadata": {},
   "outputs": [],
   "source": []
  },
  {
   "cell_type": "code",
   "execution_count": null,
   "metadata": {},
   "outputs": [],
   "source": []
  }
 ],
 "metadata": {
  "kernelspec": {
   "display_name": "Python 3",
   "language": "python",
   "name": "python3"
  },
  "language_info": {
   "codemirror_mode": {
    "name": "ipython",
    "version": 3
   },
   "file_extension": ".py",
   "mimetype": "text/x-python",
   "name": "python",
   "nbconvert_exporter": "python",
   "pygments_lexer": "ipython3",
   "version": "3.6.10"
  }
 },
 "nbformat": 4,
 "nbformat_minor": 4
}
