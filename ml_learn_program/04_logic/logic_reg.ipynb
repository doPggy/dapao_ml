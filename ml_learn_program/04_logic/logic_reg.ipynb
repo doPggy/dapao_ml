{
 "cells": [
  {
   "cell_type": "code",
   "execution_count": 1,
   "metadata": {},
   "outputs": [],
   "source": [
    "import numpy as np\n",
    "import matplotlib.pyplot as plt"
   ]
  },
  {
   "cell_type": "code",
   "execution_count": 2,
   "metadata": {},
   "outputs": [],
   "source": [
    "def load_data():\n",
    "    with open('./testSet.txt') as f:\n",
    "        x_data_set = []\n",
    "        y_data_set = []\n",
    "        for line in f.readlines():\n",
    "            l = line.strip().split()\n",
    "            # x0, x1, x2\n",
    "            x_data_set.append([1.0, float(l[0]), float(l[1])])\n",
    "            y_data_set.append(int(l[2]))\n",
    "        return x_data_set, y_data_set\n",
    "x_data_set, y_data_set = load_data()\n"
   ]
  },
  {
   "cell_type": "code",
   "execution_count": 3,
   "metadata": {},
   "outputs": [],
   "source": [
    "# sigmoid 函数\n",
    "# 激活函数保证结果在 0 - 1 之间\n",
    "def sigmoid(in_x):\n",
    "    res = 1.0 / (1.0 + np.exp(-in_x))\n",
    "    return res"
   ]
  },
  {
   "cell_type": "code",
   "execution_count": 4,
   "metadata": {},
   "outputs": [],
   "source": [
    "# 梯度上升 w = w + l * grad(f(w))\n",
    "# 其使用梯度下降也一样\n",
    "def grad_ascent_1(x_train, y_train):\n",
    "    l_rate = 0.001 # 学习率，步长\n",
    "    # 终于 numpy 了嗷\n",
    "    x_train = np.array(x_train)\n",
    "    y_train = np.array(y_train)\n",
    "    epoch   = 500\n",
    "    w       = np.ones(x_train.shape[1]) # 待训练的权重\n",
    "    for i in range(epoch):\n",
    "        r     = sigmoid(np.dot(x_train, w)) # 这个还没有 bias\n",
    "        error = y_train - r\n",
    "        w     = w - l_rate * np.dot(-error, x_train) # 详见李宏毅 ppt 了。以前好歹是写过的 而且对线代还是要有了解\n",
    "#         w     = w + l_rate * np.dot(error, x_train)\n",
    "    return w\n",
    "\n",
    "w1 = grad_ascent_1(x_data_set, y_data_set)"
   ]
  },
  {
   "cell_type": "code",
   "execution_count": 5,
   "metadata": {},
   "outputs": [
    {
     "data": {
      "image/png": "[encoded data removed]",
      "text/plain": [
       "<Figure size 432x288 with 1 Axes>"
      ]
     },
     "metadata": {
      "needs_background": "light"
     },
     "output_type": "display_data"
    }
   ],
   "source": [
    "def best_fit(w):\n",
    "    x_data, y_data = load_data()\n",
    "    x_data = np.array(x_data)\n",
    "    y_data = np.array(y_data)\n",
    "    sample_num = x_data.shape[0]\n",
    "    xcord1 = []; ycord1 = []\n",
    "    xcord2 = []; ycord2 = []\n",
    "    for i in range(sample_num):\n",
    "        if y_data[i] == 1:\n",
    "            # x11, x12 = xcord1 , ycord1\n",
    "            xcord1.append(x_data[i, 1]); ycord1.append(x_data[i, 2])\n",
    "        else:\n",
    "            # x21, x22 = xcord2, ycord2\n",
    "            xcord2.append(x_data[i, 1]); ycord2.append(x_data[i, 2])\n",
    "    fig = plt.figure()\n",
    "    ax  = fig.add_subplot(111)\n",
    "    ax.scatter(xcord1, ycord1, s = 30, c = 'red', marker = 's')\n",
    "    ax.scatter(xcord2, ycord2, s = 30, c = 'green')\n",
    "    x1 = np.arange(-3.0, 3.0, 0.1)\n",
    "    x2 = (-w[0] - w[1] * x1 ) / w[2] # 设 sigmoid  = 0 = w0x0 + w1x1 + w2x2 因为 0 是在 sig 中是分界点\n",
    "    ax.plot(x1, x2)\n",
    "    plt.xlabel('X1')\n",
    "    plt.ylabel('X2')\n",
    "    plt.show()\n",
    "best_fit(w1)"
   ]
  },
  {
   "cell_type": "code",
   "execution_count": 6,
   "metadata": {},
   "outputs": [
    {
     "data": {
      "text/plain": [
       "22"
      ]
     },
     "execution_count": 6,
     "metadata": {},
     "output_type": "execute_result"
    }
   ],
   "source": [
    "a = np.array([[1, 22], [23,34]])\n",
    "a[0, 1]"
   ]
  },
  {
   "cell_type": "markdown",
   "metadata": {},
   "source": [
    "如上的梯度上升效果还不错，但是如果数据量上去了，训练会很慢，利用随机梯度上升可以提高训练速度。\n",
    "\n",
    "其实梯度上升和梯度下降一回事。"
   ]
  },
  {
   "cell_type": "code",
   "execution_count": 7,
   "metadata": {},
   "outputs": [
    {
     "name": "stderr",
     "output_type": "stream",
     "text": [
      "E:\\ProgramData\\Anaconda3\\envs\\ml_py36\\lib\\site-packages\\ipykernel_launcher.py:4: RuntimeWarning: overflow encountered in exp\n",
      "  after removing the cwd from sys.path.\n"
     ]
    },
    {
     "data": {
      "image/png": "[encoded data removed]",
      "text/plain": [
       "<Figure size 432x288 with 1 Axes>"
      ]
     },
     "metadata": {
      "needs_background": "light"
     },
     "output_type": "display_data"
    }
   ],
   "source": [
    "# 随机梯度下降，原本是全部数据集计算后更新一次参数，这回是一个样本就更新一次\n",
    "# 这样一次训练，其实就训练了 sample_num 次\n",
    "# 而普通的梯度下降，一次就是一次，但是计算了 sample_num 次。\n",
    "def sgd(x_train, y_train, epoch = 150):\n",
    "    x_train = np.array(x_train)\n",
    "    y_train = np.array(y_train)\n",
    "#     l_rate = 0.001\n",
    "    w      = np.ones(x_train.shape[1])\n",
    "    \n",
    "    sample_num = x_train.shape[0]\n",
    "    order  = np.arange(0, sample_num)\n",
    "    for i in range(150):\n",
    "        np.random.shuffle(order)\n",
    "        j = 0\n",
    "        for index in order:\n",
    "            # 同时学习率其实应该也要随着训练而变化\n",
    "            # 如下公式，保证了 l_rate 不是严格下降，因为 i 定 j 增，到了下一轮会有学习率比上一轮来的大\n",
    "            l_rate = 4.0 / (1.0 + i + j) + 0.01\n",
    "            # 其中一个样本\n",
    "            r     = sigmoid(np.dot(x_train[index], w))\n",
    "            error = y_train[index] - r\n",
    "#             w     = w - l_rate * np.dot(-error, x_train[index])\n",
    "            w     = w - l_rate * -error * x_train[index]\n",
    "            j += 1\n",
    "    return w\n",
    "w2 = sgd(x_data_set, y_data_set)\n",
    "best_fit(w2)"
   ]
  },
  {
   "cell_type": "code",
   "execution_count": 8,
   "metadata": {},
   "outputs": [
    {
     "data": {
      "text/plain": [
       "array([30, 56, 35, 46,  9,  3, 87, 73, 98, 11, 77, 34,  6, 62, 72, 64,  7,\n",
       "       45, 83, 43, 48, 10,  4, 96, 81, 12, 97, 92, 24, 93,  8, 52, 55, 40,\n",
       "       21, 18, 53, 90, 15, 59, 26, 61, 95, 20, 66, 49, 57, 31, 51,  1,  0,\n",
       "       36, 44, 75, 25,  5, 94, 86, 42, 58, 69, 16, 91, 99, 50, 17, 82, 89,\n",
       "       76, 74, 79,  2, 65, 47, 63, 68, 22, 19, 38, 70, 39, 67, 29, 88, 28,\n",
       "       32, 13, 60, 14, 78, 71, 33, 84, 37, 27, 54, 80, 85, 23, 41])"
      ]
     },
     "execution_count": 8,
     "metadata": {},
     "output_type": "execute_result"
    }
   ],
   "source": [
    "x = np.arange(0, 100)\n",
    "np.random.shuffle(x)\n",
    "x"
   ]
  },
  {
   "cell_type": "markdown",
   "metadata": {},
   "source": [
    "好了，开始给例子了。\n",
    "\n",
    "首先对于一个数据集，需要做一些预处理。除了变成能处理的数据结构外，就是要处理缺失值。(其实这可能是特征工程需要学习的内容)\n",
    "\n",
    "对于缺失值，有几种解决方式。\n",
    "1. 用该特征的均值来补\n",
    "2. 用特殊的特征值，如 -1\n",
    "3. 忽略这个样本\n",
    "4. 用相似的样本值来代替\n",
    "5. 用另外的算法预测缺失值\n",
    "\n",
    "\n",
    "在本例子中， 用 0 作为缺失值就好。对于 sigmoid 函数来说，输入 0 也就是 0.5，说明没有偏向预测。\n",
    "\n",
    "可以了，需要开始利用 logic regression 来进行分类预测。\n"
   ]
  },
  {
   "cell_type": "code",
   "execution_count": 9,
   "metadata": {},
   "outputs": [],
   "source": [
    "# input - np.darray\n",
    "def classify(x_test, w):\n",
    "    r = sigmoid(np.dot(x_test, w))\n",
    "    return r\n"
   ]
  },
  {
   "cell_type": "code",
   "execution_count": 10,
   "metadata": {},
   "outputs": [],
   "source": [
    "def pre():\n",
    "    with open('./horseColicTraining.txt', 'r') as f:\n",
    "        x_train = []\n",
    "        y_train = []\n",
    "        for line in f.readlines():\n",
    "            feature_and_labels = line.strip().split('\\t')\n",
    "            x_train.append([ float(num) for num in feature_and_labels[:-1]])\n",
    "            y_train.append(float(feature_and_labels[-1]))\n",
    "    with open('./horseColicTest.txt', 'r') as f:\n",
    "        x_test = []\n",
    "        y_test = []\n",
    "        for line in f.readlines():\n",
    "            feature_and_labels = line.strip().split('\\t')\n",
    "            x_test.append([ float(num) for num in feature_and_labels[:-1] ])\n",
    "            y_test.append(float(feature_and_labels[-1]))\n",
    "    return np.array(x_train), np.array(y_train), np.array(x_test), np.array(y_test)\n",
    "\n",
    "x_train, y_train, x_test, y_test = pre()"
   ]
  },
  {
   "cell_type": "code",
   "execution_count": 11,
   "metadata": {},
   "outputs": [
    {
     "name": "stderr",
     "output_type": "stream",
     "text": [
      "E:\\ProgramData\\Anaconda3\\envs\\ml_py36\\lib\\site-packages\\ipykernel_launcher.py:4: RuntimeWarning: overflow encountered in exp\n",
      "  after removing the cwd from sys.path.\n"
     ]
    },
    {
     "name": "stdout",
     "output_type": "stream",
     "text": [
      "0.9552238805970149\n",
      "0.5925373134328359\n"
     ]
    }
   ],
   "source": [
    "def test(x_train, y_train, x_test, y_test):\n",
    "    w1   = grad_ascent_1(x_train, y_train)\n",
    "    res1 = classify(x_test, w1)\n",
    "    print((res1 > 0.5).sum() / x_test.shape[0])\n",
    "    \n",
    "    r_rate_4_sgd = 0.0\n",
    "    for i in range(10):\n",
    "        w2   = sgd(x_train, y_train) # 对于 sgd 还是需要多求几次取平均\n",
    "        res2 = classify(x_test, w2)\n",
    "        r_rate_4_sgd += (res2 > 0.5).sum() / x_test.shape[0]\n",
    "    print(r_rate_4_sgd / 10)\n",
    "\n",
    "\n",
    "test(x_train, y_train, x_test, y_test)\n"
   ]
  },
  {
   "cell_type": "markdown",
   "metadata": {},
   "source": [
    "同时可以看一下 axis 的含义，自己悟的。\n",
    "\n",
    "对于某一个轴进行运算，就是将降这个维，保留其他轴"
   ]
  },
  {
   "cell_type": "code",
   "execution_count": 12,
   "metadata": {},
   "outputs": [
    {
     "name": "stdout",
     "output_type": "stream",
     "text": [
      "(2, 3)\n"
     ]
    },
    {
     "data": {
      "text/plain": [
       "(2,)"
      ]
     },
     "execution_count": 12,
     "metadata": {},
     "output_type": "execute_result"
    }
   ],
   "source": [
    "x = np.array([[1, 2, 3], [1, 3, 3]])\n",
    "print(x.shape)\n",
    "x.sum(axis = 1).shape"
   ]
  }
 ],
 "metadata": {
  "kernelspec": {
   "display_name": "Python 3",
   "language": "python",
   "name": "python3"
  },
  "language_info": {
   "codemirror_mode": {
    "name": "ipython",
    "version": 3
   },
   "file_extension": ".py",
   "mimetype": "text/x-python",
   "name": "python",
   "nbconvert_exporter": "python",
   "pygments_lexer": "ipython3",
   "version": "3.6.10"
  }
 },
 "nbformat": 4,
 "nbformat_minor": 4
}
