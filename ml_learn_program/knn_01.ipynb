{
 "cells": [
  {
   "cell_type": "code",
   "execution_count": 16,
   "metadata": {},
   "outputs": [],
   "source": [
    "import numpy as np\n",
    "\n",
    "from operator import itemgetter"
   ]
  },
  {
   "cell_type": "code",
   "execution_count": 3,
   "metadata": {},
   "outputs": [],
   "source": [
    "def create_data_set():\n",
    "    # 构造一个数据集，每一行代表一个样例，而样例中有两个特征 feature\n",
    "    group = np.array([[1.0, 1.1], \n",
    "                      [1.0, 1.0], \n",
    "                      [0, 0], \n",
    "                      [0, 0.1]])\n",
    "    # 对应标签，对于监督学习类型的机器学习算法，是要有已经分类好的数据，这些数据就需要标签\n",
    "    labels = [\n",
    "        'A',\n",
    "        'A',\n",
    "        'B',\n",
    "        'B',\n",
    "    ]\n",
    "    return group, labels\n"
   ]
  },
  {
   "cell_type": "code",
   "execution_count": 4,
   "metadata": {},
   "outputs": [
    {
     "name": "stdout",
     "output_type": "stream",
     "text": [
      "[[1.  1.1]\n",
      " [1.  1. ]\n",
      " [0.  0. ]\n",
      " [0.  0.1]] ['A', 'A', 'B', 'B']\n"
     ]
    }
   ],
   "source": [
    "group, labels = create_data_set()\n",
    "print(group, labels)"
   ]
  },
  {
   "cell_type": "code",
   "execution_count": 20,
   "metadata": {},
   "outputs": [
    {
     "name": "stdout",
     "output_type": "stream",
     "text": [
      "A\n"
     ]
    }
   ],
   "source": [
    "# 对于 knn 来说，其实没有训练的概念。\n",
    "def knn(wait_check_X, data_set, labels, k):\n",
    "    data_set_size = data_set.shape[0]\n",
    "    # np.tile 沿着 (axis = 0, axis = 1) 方向复制\n",
    "    # [1,1] -> [[1, 1],[1, 1],[1, 1],[1, 1],]\n",
    "    mat           = np.tile(wait_check_X, (data_set_size, 1))\n",
    "    sq            = (mat - data_set) ** 2\n",
    "    # wait_check_X 与每个样例的距离\n",
    "    # 找到最相近的 k 个数据，再统计其中最多的分类\n",
    "    distances     = (sq.sum(axis = 1)) ** 0.5\n",
    "    sort_index    = distances.argsort()\n",
    "    class_count   = {}\n",
    "    for i in range(k):\n",
    "        index = sort_index[i]\n",
    "        label = labels[index]\n",
    "        class_count[label] = class_count.get(label, 0) + 1\n",
    "    sort_res = sorted(class_count.items(),key=itemgetter(1),reverse=True)\n",
    "    return sort_res[0][0]\n",
    "    \n",
    "\n",
    "print(knn([1, 1], group, labels, 3))"
   ]
  },
  {
   "cell_type": "code",
   "execution_count": null,
   "metadata": {},
   "outputs": [],
   "source": []
  },
  {
   "cell_type": "code",
   "execution_count": null,
   "metadata": {},
   "outputs": [],
   "source": []
  },
  {
   "cell_type": "code",
   "execution_count": null,
   "metadata": {},
   "outputs": [],
   "source": []
  }
 ],
 "metadata": {
  "kernelspec": {
   "display_name": "Python 3",
   "language": "python",
   "name": "python3"
  },
  "language_info": {
   "codemirror_mode": {
    "name": "ipython",
    "version": 3
   },
   "file_extension": ".py",
   "mimetype": "text/x-python",
   "name": "python",
   "nbconvert_exporter": "python",
   "pygments_lexer": "ipython3",
   "version": "3.6.10"
  }
 },
 "nbformat": 4,
 "nbformat_minor": 4
}
