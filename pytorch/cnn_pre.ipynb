{
 "cells": [
  {
   "cell_type": "code",
   "execution_count": 1,
   "metadata": {},
   "outputs": [],
   "source": [
    "import torch as t\n",
    "import torchvision\n",
    "import torchvision.transforms as tfs\n",
    "import matplotlib.pyplot as plt"
   ]
  },
  {
   "cell_type": "markdown",
   "metadata": {},
   "source": [
    "似乎接下来就要开始接触一个新手项目。那么一个项目的几个步骤是什么？\n",
    "\n",
    "1. 准备数据\n",
    "2. 建立一个模型\n",
    "3. 训练模型\n",
    "4. 分析模型结果\n",
    "\n",
    "所以就从准备数据开始。"
   ]
  },
  {
   "cell_type": "markdown",
   "metadata": {},
   "source": [
    "# ETL \n",
    "\n",
    "`ETL` 是准备数据的步骤。当 `ETL` 结束，就可以开始建立，训练模型。\n",
    "\n",
    "`ETL` 步骤大致如下\n",
    "1. (Extract) 从源数据中提取数据\n",
    "2. (Transform) 将数据转换成想要的格式(张量)\n",
    "3. (Load) 加载数据到一个结构中\n",
    "\n"
   ]
  },
  {
   "cell_type": "markdown",
   "metadata": {},
   "source": [
    "## 用  pytorch 来走一遍 ETL\n",
    "1. 从网络上下载 `Fashion-MNIST` 数据集。\n",
    "2. 将数据集放入张量\n",
    "3. 将数据加载到一个对象中，方便访问\n",
    "\n",
    "`pytorch` 提供了两个类。\n",
    "\n",
    "`torch.utils.data.Dataset`，是一个抽象类，需要开发者必须实现 `__len__, __getitem__`，来描述一种数据集，且提供一些访问接口。\n",
    "\n",
    "`torch.utils.data.DataLoader` 用于加载数据到一个对象中，提供了访问数据的接口。"
   ]
  },
  {
   "cell_type": "markdown",
   "metadata": {},
   "source": [
    "但是用如下代码就完成了前两个步骤"
   ]
  },
  {
   "cell_type": "code",
   "execution_count": 2,
   "metadata": {},
   "outputs": [],
   "source": [
    "train_set = torchvision.datasets.FashionMNIST(\n",
    "    root = './data/minst',\n",
    "    train = True, # 用于训练集\n",
    "    download = True, # 如果没有这个数据集，允许在线下载\n",
    "    transform = tfs.Compose([ # 转换\n",
    "        tfs.ToTensor()\n",
    "    ])\n",
    ")"
   ]
  },
  {
   "cell_type": "markdown",
   "metadata": {},
   "source": [
    "这就是 `torchvision` 作用。\n",
    "\n",
    "1. 访问一些数据集\n",
    "2. 提供模型\n",
    "3. 提供转换方法\n",
    "4. 一些工具函数"
   ]
  },
  {
   "cell_type": "markdown",
   "metadata": {},
   "source": [
    "而且在 `torchvision` 中，对于 `FashionMNIST` 的实现是继承了 `MNIST` 这个类，重写了数据集的 `url` 而已.所以上述提到的 `__len__, __getitem__` 已经是被实现了。\n",
    "\n",
    " `torchvision` 直接提供了一个准备好的 `FashionMNIST` 数据集。"
   ]
  },
  {
   "cell_type": "markdown",
   "metadata": {},
   "source": [
    "而 `torch.utils.data.DataLoader` 就是提供加载数据到对象的方法。"
   ]
  },
  {
   "cell_type": "code",
   "execution_count": 3,
   "metadata": {},
   "outputs": [
    {
     "data": {
      "text/plain": [
       "<torch.utils.data.dataloader.DataLoader at 0x15f40915a58>"
      ]
     },
     "execution_count": 3,
     "metadata": {},
     "output_type": "execute_result"
    }
   ],
   "source": [
    "train_loader = t.utils.data.DataLoader(train_set) # Load\n",
    "train_loader"
   ]
  },
  {
   "cell_type": "code",
   "execution_count": null,
   "metadata": {},
   "outputs": [],
   "source": []
  },
  {
   "cell_type": "code",
   "execution_count": null,
   "metadata": {},
   "outputs": [],
   "source": []
  },
  {
   "cell_type": "code",
   "execution_count": null,
   "metadata": {},
   "outputs": [],
   "source": []
  },
  {
   "cell_type": "code",
   "execution_count": null,
   "metadata": {},
   "outputs": [],
   "source": []
  },
  {
   "cell_type": "code",
   "execution_count": null,
   "metadata": {},
   "outputs": [],
   "source": []
  }
 ],
 "metadata": {
  "kernelspec": {
   "display_name": "Python 3",
   "language": "python",
   "name": "python3"
  },
  "language_info": {
   "codemirror_mode": {
    "name": "ipython",
    "version": 3
   },
   "file_extension": ".py",
   "mimetype": "text/x-python",
   "name": "python",
   "nbconvert_exporter": "python",
   "pygments_lexer": "ipython3",
   "version": "3.6.10"
  }
 },
 "nbformat": 4,
 "nbformat_minor": 4
}
